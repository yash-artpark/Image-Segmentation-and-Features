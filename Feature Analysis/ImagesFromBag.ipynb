{
 "cells": [
  {
   "cell_type": "code",
   "execution_count": 1,
   "metadata": {},
   "outputs": [],
   "source": [
    "import pprint\n",
    "\n",
    "import subprocess, yaml\n",
    "import rosbag\n",
    "from cv_bridge import CvBridge\n",
    "import cv2"
   ]
  },
  {
   "cell_type": "code",
   "execution_count": 2,
   "metadata": {},
   "outputs": [
    {
     "name": "stderr",
     "output_type": "stream",
     "text": [
      "/home/yash/py2_kernel/lib/python2.7/site-packages/ipykernel_launcher.py:10: YAMLLoadWarning: calling yaml.load() without Loader=... is deprecated, as the default Loader is unsafe. Please read https://msg.pyyaml.org/load for full details.\n",
      "  # Remove the CWD from sys.path while we load stuff.\n"
     ]
    },
    {
     "name": "stdout",
     "output_type": "stream",
     "text": [
      "path:        2021-01-27-12-23-45.bag\n",
      "version:     2.0\n",
      "duration:    16.7s\n",
      "start:       Jan 27 2021 12:23:45.44 (1611730425.44)\n",
      "end:         Jan 27 2021 12:24:02.16 (1611730442.16)\n",
      "size:        3.1 GB\n",
      "messages:    22201\n",
      "compression: none [894/894 chunks]\n",
      "types:       geometry_msgs/PoseStamped  [d3812c3cbc69362b77dc0b19b345f8f5]\n",
      "             nav_msgs/Odometry          [cd5e73d190d741a2f92e81eda573aca7]\n",
      "             sensor_msgs/CameraInfo     [c9a58c1b0b154e0e6da7578cb991d214]\n",
      "             sensor_msgs/Image          [060021388200f6f0f447d0fcd9c64743]\n",
      "             stereo_msgs/DisparityImage [04a177815f75271039fa21f16acad8c9]\n",
      "             tf2_msgs/TFMessage         [94810edda583a504dfda3829e70d7eec]\n",
      "topics:      /odometry/filtered                          1670 msgs @  7.9 kHz : nav_msgs/Odometry         \n",
      "             /tf                                        18620 msgs @  9.8 kHz : tf2_msgs/TFMessage         (6 connections)\n",
      "             /tf_static                                     3 msgs @ 247.7 Hz : tf2_msgs/TFMessage         (3 connections)\n",
      "             /vlp/gt_pose                                 122 msgs @  10.3 Hz : geometry_msgs/PoseStamped \n",
      "             /zedm/zed_node/depth/depth_registered        223 msgs @  14.6 Hz : sensor_msgs/Image         \n",
      "             /zedm/zed_node/disparity/disparity_image     223 msgs @  14.2 Hz : stereo_msgs/DisparityImage\n",
      "             /zedm/zed_node/left/camera_info              446 msgs @  81.5 Hz : sensor_msgs/CameraInfo    \n",
      "             /zedm/zed_node/left/image_rect_color         223 msgs @  14.6 Hz : sensor_msgs/Image         \n",
      "             /zedm/zed_node/right/camera_info             447 msgs @  66.2 Hz : sensor_msgs/CameraInfo    \n",
      "             /zedm/zed_node/right/image_rect_color        224 msgs @  14.6 Hz : sensor_msgs/Image\n"
     ]
    }
   ],
   "source": [
    "testInputBagFile = '2021-01-27-12-23-45.bag'\n",
    "\n",
    "readTopic = '/odometry/filtered'\n",
    "\n",
    "outputPath = './SingleImages'\n",
    "\n",
    "FX = 1.0\n",
    "FY = 1.0\n",
    "\n",
    "info_dict = yaml.load(subprocess.Popen(['rosbag', 'info', '--yaml', testInputBagFile], stdout=subprocess.PIPE).communicate()[0])\n",
    "\n",
    "# pp = pprint.PrettyPrinter(indent = 4)\n",
    "# pp.pprint( info_dict )\n",
    "\n",
    "bag = rosbag.Bag(testInputBagFile)\n",
    "\n",
    "print(bag)\n",
    "    \n",
    "genBag = bag.read_messages(readTopic)\n",
    "\n"
   ]
  },
  {
   "cell_type": "code",
   "execution_count": 26,
   "metadata": {},
   "outputs": [
    {
     "name": "stdout",
     "output_type": "stream",
     "text": [
      "OK, 0 / 22201\n"
     ]
    },
    {
     "ename": "AttributeError",
     "evalue": "'_nav_msgs__Odometry' object has no attribute 'encoding'",
     "output_type": "error",
     "traceback": [
      "\u001b[0;31m---------------------------------------------------------------------------\u001b[0m",
      "\u001b[0;31mAttributeError\u001b[0m                            Traceback (most recent call last)",
      "\u001b[0;32m<ipython-input-26-c44533091f71>\u001b[0m in \u001b[0;36m<module>\u001b[0;34m()\u001b[0m\n\u001b[1;32m      2\u001b[0m         \u001b[0;32mprint\u001b[0m\u001b[0;34m(\u001b[0m\u001b[0;34m\"OK, %d / %d\"\u001b[0m \u001b[0;34m%\u001b[0m \u001b[0;34m(\u001b[0m\u001b[0mk\u001b[0m\u001b[0;34m,\u001b[0m \u001b[0minfo_dict\u001b[0m\u001b[0;34m[\u001b[0m\u001b[0;34m'messages'\u001b[0m\u001b[0;34m]\u001b[0m\u001b[0;34m)\u001b[0m\u001b[0;34m)\u001b[0m\u001b[0;34m\u001b[0m\u001b[0m\n\u001b[1;32m      3\u001b[0m         \u001b[0mcb\u001b[0m \u001b[0;34m=\u001b[0m \u001b[0mCvBridge\u001b[0m\u001b[0;34m(\u001b[0m\u001b[0;34m)\u001b[0m\u001b[0;34m\u001b[0m\u001b[0m\n\u001b[0;32m----> 4\u001b[0;31m         \u001b[0mcv_image\u001b[0m \u001b[0;34m=\u001b[0m \u001b[0mcb\u001b[0m\u001b[0;34m.\u001b[0m\u001b[0mimgmsg_to_cv2\u001b[0m\u001b[0;34m(\u001b[0m \u001b[0mb\u001b[0m\u001b[0;34m.\u001b[0m\u001b[0mmessage\u001b[0m\u001b[0;34m,\u001b[0m \u001b[0mdesired_encoding\u001b[0m\u001b[0;34m=\u001b[0m\u001b[0;34m\"jpeg\"\u001b[0m\u001b[0;34m)\u001b[0m\u001b[0;34m\u001b[0m\u001b[0m\n\u001b[0m\u001b[1;32m      5\u001b[0m         \u001b[0mcv2\u001b[0m\u001b[0;34m.\u001b[0m\u001b[0mimwrite\u001b[0m\u001b[0;34m(\u001b[0m\u001b[0moutputPath\u001b[0m \u001b[0;34m+\u001b[0m \u001b[0;34m'/'\u001b[0m \u001b[0;34m+\u001b[0m \u001b[0mstr\u001b[0m\u001b[0;34m(\u001b[0m\u001b[0mk\u001b[0m\u001b[0;34m)\u001b[0m \u001b[0;34m+\u001b[0m \u001b[0;34m'.jpg'\u001b[0m\u001b[0;34m,\u001b[0m \u001b[0mcv_image\u001b[0m\u001b[0;34m)\u001b[0m\u001b[0;34m\u001b[0m\u001b[0m\n\u001b[1;32m      6\u001b[0m \u001b[0;34m\u001b[0m\u001b[0m\n",
      "\u001b[0;32m/opt/ros/melodic/lib/python2.7/dist-packages/cv_bridge/core.pyc\u001b[0m in \u001b[0;36mimgmsg_to_cv2\u001b[0;34m(self, img_msg, desired_encoding)\u001b[0m\n\u001b[1;32m    161\u001b[0m         \u001b[0;32mimport\u001b[0m \u001b[0mcv2\u001b[0m\u001b[0;34m\u001b[0m\u001b[0m\n\u001b[1;32m    162\u001b[0m         \u001b[0;32mimport\u001b[0m \u001b[0mnumpy\u001b[0m \u001b[0;32mas\u001b[0m \u001b[0mnp\u001b[0m\u001b[0;34m\u001b[0m\u001b[0m\n\u001b[0;32m--> 163\u001b[0;31m         \u001b[0mdtype\u001b[0m\u001b[0;34m,\u001b[0m \u001b[0mn_channels\u001b[0m \u001b[0;34m=\u001b[0m \u001b[0mself\u001b[0m\u001b[0;34m.\u001b[0m\u001b[0mencoding_to_dtype_with_channels\u001b[0m\u001b[0;34m(\u001b[0m\u001b[0mimg_msg\u001b[0m\u001b[0;34m.\u001b[0m\u001b[0mencoding\u001b[0m\u001b[0;34m)\u001b[0m\u001b[0;34m\u001b[0m\u001b[0m\n\u001b[0m\u001b[1;32m    164\u001b[0m         \u001b[0mdtype\u001b[0m \u001b[0;34m=\u001b[0m \u001b[0mnp\u001b[0m\u001b[0;34m.\u001b[0m\u001b[0mdtype\u001b[0m\u001b[0;34m(\u001b[0m\u001b[0mdtype\u001b[0m\u001b[0;34m)\u001b[0m\u001b[0;34m\u001b[0m\u001b[0m\n\u001b[1;32m    165\u001b[0m         \u001b[0mdtype\u001b[0m \u001b[0;34m=\u001b[0m \u001b[0mdtype\u001b[0m\u001b[0;34m.\u001b[0m\u001b[0mnewbyteorder\u001b[0m\u001b[0;34m(\u001b[0m\u001b[0;34m'>'\u001b[0m \u001b[0;32mif\u001b[0m \u001b[0mimg_msg\u001b[0m\u001b[0;34m.\u001b[0m\u001b[0mis_bigendian\u001b[0m \u001b[0;32melse\u001b[0m \u001b[0;34m'<'\u001b[0m\u001b[0;34m)\u001b[0m\u001b[0;34m\u001b[0m\u001b[0m\n",
      "\u001b[0;31mAttributeError\u001b[0m: '_nav_msgs__Odometry' object has no attribute 'encoding'"
     ]
    }
   ],
   "source": [
    "for k,b in enumerate(genBag):\n",
    "\tprint(\"OK, %d / %d\" % (k, info_dict['messages']))\n",
    "\tcb = CvBridge()\n",
    "\tcv_image = cb.imgmsg_to_cv2( b.message, desired_encoding=\"jpeg\")\n",
    "\tcv2.imwrite(outputPath + '/' + str(k) + '.jpg', cv_image)\n",
    "\n",
    "\tcv_image_r = cv2.resize(cv_image, dsize = (0,0), fx = FX, fy = FY)\n",
    "\tcv2.imshow('topic', cv_image_r)\n",
    "\tkey = cv2.waitKey(0)\n",
    "\n",
    "\tif 113 == key:\n",
    "\t\tprint(\"q pressed. Abort.\")\n",
    "\t\tbreak\n",
    "\n",
    "cv2.destroyAllWindows()\n",
    "\n",
    "bag.close()"
   ]
  },
  {
   "cell_type": "code",
   "execution_count": 21,
   "metadata": {},
   "outputs": [
    {
     "data": {
      "text/plain": [
       "['__class__',\n",
       " '__delattr__',\n",
       " '__doc__',\n",
       " '__eq__',\n",
       " '__format__',\n",
       " '__getattribute__',\n",
       " '__getstate__',\n",
       " '__hash__',\n",
       " '__init__',\n",
       " '__module__',\n",
       " '__ne__',\n",
       " '__new__',\n",
       " '__reduce__',\n",
       " '__reduce_ex__',\n",
       " '__repr__',\n",
       " '__setattr__',\n",
       " '__setstate__',\n",
       " '__sizeof__',\n",
       " '__slots__',\n",
       " '__str__',\n",
       " '__subclasshook__',\n",
       " '_check_types',\n",
       " '_connection_header',\n",
       " '_full_text',\n",
       " '_get_types',\n",
       " '_has_header',\n",
       " '_md5sum',\n",
       " '_slot_types',\n",
       " '_spec',\n",
       " '_type',\n",
       " 'child_frame_id',\n",
       " 'deserialize',\n",
       " 'deserialize_numpy',\n",
       " 'header',\n",
       " 'pose',\n",
       " 'serialize',\n",
       " 'serialize_numpy',\n",
       " 'twist']"
      ]
     },
     "execution_count": 21,
     "metadata": {},
     "output_type": "execute_result"
    }
   ],
   "source": [
    "dir(b.message)"
   ]
  },
  {
   "cell_type": "code",
   "execution_count": null,
   "metadata": {},
   "outputs": [],
   "source": []
  }
 ],
 "metadata": {
  "kernelspec": {
   "display_name": "Python 2",
   "language": "python",
   "name": "python2"
  },
  "language_info": {
   "codemirror_mode": {
    "name": "ipython",
    "version": 2
   },
   "file_extension": ".py",
   "mimetype": "text/x-python",
   "name": "python",
   "nbconvert_exporter": "python",
   "pygments_lexer": "ipython2",
   "version": "2.7.17"
  }
 },
 "nbformat": 4,
 "nbformat_minor": 2
}
